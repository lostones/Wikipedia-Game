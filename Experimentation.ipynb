{
 "cells": [
  {
   "cell_type": "markdown",
   "metadata": {},
   "source": [
    "# Experimentations"
   ]
  },
  {
   "cell_type": "code",
   "execution_count": 1,
   "metadata": {
    "collapsed": true
   },
   "outputs": [],
   "source": [
    "import wikipedia\n",
    "import numpy as np\n",
    "import pandas as pd\n",
    "import matplotlib\n",
    "%matplotlib inline"
   ]
  },
  {
   "cell_type": "code",
   "execution_count": 15,
   "metadata": {
    "collapsed": false
   },
   "outputs": [],
   "source": [
    "\"\"\"Lists of articles that will be used to determine the average number of links per page.\"\"\"\n",
    "article_titles = [\"Donald Trump\", \"Sanskrit\", \"University of California, Berkeley\"]"
   ]
  },
  {
   "cell_type": "code",
   "execution_count": 19,
   "metadata": {
    "collapsed": true
   },
   "outputs": [],
   "source": [
    "def get_article_frequencies(name, totals):\n",
    "    used = set()\n",
    "    try:\n",
    "        article = wikipedia.page(name)\n",
    "    except:\n",
    "        return\n",
    "    for i in article.links:\n",
    "        try:\n",
    "                sub_article = wikipedia.page(i)\n",
    "        except:\n",
    "            continue\n",
    "        if(sub_article.title not in used):\n",
    "            totals.append(len(sub_article.links))\n",
    "            used.add(sub_article.title)\n",
    "    return totals"
   ]
  },
  {
   "cell_type": "markdown",
   "metadata": {},
   "source": [
    "First, running this experimnent on just one of the three articles."
   ]
  },
  {
   "cell_type": "code",
   "execution_count": 7,
   "metadata": {
    "collapsed": false
   },
   "outputs": [
    {
     "name": "stderr",
     "output_type": "stream",
     "text": [
      "/Users/virgoman97/anaconda/lib/python3.5/site-packages/bs4/__init__.py:166: UserWarning: No parser was explicitly specified, so I'm using the best available HTML parser for this system (\"lxml\"). This usually isn't a problem, but if you run this code on another system, or in a different virtual environment, it may use a different parser and behave differently.\n",
      "\n",
      "To get rid of this warning, change this:\n",
      "\n",
      " BeautifulSoup([your markup])\n",
      "\n",
      "to this:\n",
      "\n",
      " BeautifulSoup([your markup], \"lxml\")\n",
      "\n",
      "  markup_type=markup_type))\n"
     ]
    },
    {
     "name": "stdout",
     "output_type": "stream",
     "text": [
      "CPU times: user 1min, sys: 4.8 s, total: 1min 5s\n",
      "Wall time: 7min 15s\n"
     ]
    }
   ],
   "source": [
    "#Computing the average number of links on all links in a Wikipedia page.\n",
    "%time totals = get_article_frequencies(\"Sanskrit\", [])"
   ]
  },
  {
   "cell_type": "code",
   "execution_count": 25,
   "metadata": {
    "collapsed": false
   },
   "outputs": [
    {
     "name": "stdout",
     "output_type": "stream",
     "text": [
      "count     628.000000\n",
      "mean      357.533439\n",
      "std       306.048678\n",
      "min         2.000000\n",
      "25%       154.000000\n",
      "50%       276.500000\n",
      "75%       482.000000\n",
      "max      2086.000000\n",
      "dtype: float64\n"
     ]
    },
    {
     "data": {
      "text/plain": [
       "<matplotlib.axes._subplots.AxesSubplot at 0x1195a0518>"
      ]
     },
     "execution_count": 25,
     "metadata": {},
     "output_type": "execute_result"
    },
    {
     "data": {
      "image/png": "[encoded data removed]",
      "text/plain": [
       "<matplotlib.figure.Figure at 0x11961acc0>"
      ]
     },
     "metadata": {},
     "output_type": "display_data"
    }
   ],
   "source": [
    "sanskrit_links = pd.Series(totals)\n",
    "print(sanskrit_links.describe())\n",
    "sanskrit_links.hist()"
   ]
  },
  {
   "cell_type": "code",
   "execution_count": 33,
   "metadata": {
    "collapsed": false
   },
   "outputs": [
    {
     "name": "stdout",
     "output_type": "stream",
     "text": [
      "Links on page Sanskrit: 661\n",
      "Links on next level: 628\n",
      "Average time per article: 0.6580937972768532\n"
     ]
    }
   ],
   "source": [
    "sansk_links = len(wikipedia.page(\"Sanskrit\").links)\n",
    "print(\"Links on page Sanskrit:\", sansk_links)\n",
    "print(\"Links on next level:\", len(totals))\n",
    "print(\"Average time per article:\", (7 * 60 + 15) / sansk_links)"
   ]
  },
  {
   "cell_type": "code",
   "execution_count": 20,
   "metadata": {
    "collapsed": false
   },
   "outputs": [
    {
     "name": "stderr",
     "output_type": "stream",
     "text": [
      "/Users/virgoman97/anaconda/lib/python3.5/site-packages/bs4/__init__.py:166: UserWarning: No parser was explicitly specified, so I'm using the best available HTML parser for this system (\"lxml\"). This usually isn't a problem, but if you run this code on another system, or in a different virtual environment, it may use a different parser and behave differently.\n",
      "\n",
      "To get rid of this warning, change this:\n",
      "\n",
      " BeautifulSoup([your markup])\n",
      "\n",
      "to this:\n",
      "\n",
      " BeautifulSoup([your markup], \"lxml\")\n",
      "\n",
      "  markup_type=markup_type))\n"
     ]
    },
    {
     "name": "stdout",
     "output_type": "stream",
     "text": [
      "CPU times: user 6min 40s, sys: 31.3 s, total: 7min 11s\n",
      "Wall time: 57min 54s\n"
     ]
    }
   ],
   "source": [
    "#Running on 3 articles, noting time.\n",
    "\n",
    "def test_multiple_article_frequencies(titles):\n",
    "    totals = []\n",
    "    for i in titles:\n",
    "        get_article_frequencies(i, totals)\n",
    "    return totals\n",
    "\n",
    "%time all_totals = test_multiple_article_frequencies(article_titles)"
   ]
  },
  {
   "cell_type": "markdown",
   "metadata": {},
   "source": [
    "To calculate the estimate number of links on a Wikipedia page, used a technique dubbed Parental Searching - instead of specifying a large list of Wikipedia articles to count the number of links on, I specified a small list of Wikipedia articles and simply traversed all of their links ('children'). 'Parent' links were related to politics, business, ancient India, mathematics, education. Above graph shows the distribution of the number of links per page searched.\n",
    "\n",
    "This calculation took a very long time. "
   ]
  },
  {
   "cell_type": "code",
   "execution_count": 24,
   "metadata": {
    "collapsed": false
   },
   "outputs": [
    {
     "name": "stdout",
     "output_type": "stream",
     "text": [
      "count    3599.000000\n",
      "mean      391.590997\n",
      "std       353.425466\n",
      "min         1.000000\n",
      "25%       139.000000\n",
      "50%       294.000000\n",
      "75%       525.500000\n",
      "max      2446.000000\n",
      "dtype: float64\n"
     ]
    },
    {
     "data": {
      "text/plain": [
       "<matplotlib.text.Text at 0x11958cf28>"
      ]
     },
     "execution_count": 24,
     "metadata": {},
     "output_type": "execute_result"
    },
    {
     "data": {
      "image/png": "[encoded data removed]",
      "text/plain": [
       "<matplotlib.figure.Figure at 0x1192385c0>"
      ]
     },
     "metadata": {},
     "output_type": "display_data"
    }
   ],
   "source": [
    "article_links = pd.Series(all_totals)\n",
    "print(article_links.describe())\n",
    "hist = article_links.hist()\n",
    "hist.set_xlabel(\"Number of Links\")\n",
    "hist.set_ylabel(\"Articles\")"
   ]
  },
  {
   "cell_type": "code",
   "execution_count": 34,
   "metadata": {
    "collapsed": false
   },
   "outputs": [
    {
     "name": "stdout",
     "output_type": "stream",
     "text": [
      "Articles Traversed: 3878\n",
      "Total articles on next level: 3599\n",
      "Time (seconds): 3474\n",
      "Average Time per Article: 1.1162924582613702\n"
     ]
    }
   ],
   "source": [
    "articles_traversed = sum([len(wikipedia.page(i).links) for i in article_titles])\n",
    "time_seconds = 60*57 + 54\n",
    "avg_time = articles_traversed / time_seconds\n",
    "print(\"Articles Traversed:\", articles_traversed)\n",
    "print(\"Total articles on next level:\", len(all_totals))\n",
    "print(\"Time (seconds):\", time_seconds)\n",
    "print(\"Average Time per Article:\", avg_time)"
   ]
  },
  {
   "cell_type": "code",
   "execution_count": null,
   "metadata": {
    "collapsed": true
   },
   "outputs": [],
   "source": []
  }
 ],
 "metadata": {
  "kernelspec": {
   "display_name": "Python 3",
   "language": "python",
   "name": "python3"
  },
  "language_info": {
   "codemirror_mode": {
    "name": "ipython",
    "version": 3
   },
   "file_extension": ".py",
   "mimetype": "text/x-python",
   "name": "python",
   "nbconvert_exporter": "python",
   "pygments_lexer": "ipython3",
   "version": "3.5.1"
  }
 },
 "nbformat": 4,
 "nbformat_minor": 0
}
